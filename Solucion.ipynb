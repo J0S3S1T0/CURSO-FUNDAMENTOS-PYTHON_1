{
 "cells": [
  {
   "cell_type": "markdown",
   "metadata": {},
   "source": [
    "### Apropiación [Ejercicios Cíclicos]"
   ]
  },
  {
   "cell_type": "markdown",
   "metadata": {},
   "source": [
    "1. Leer un número y presentar la tabla de multiplicar de ese número entre 1 y 10. Utilizar el siguiente formato de ejemplo:\\n\",\n",
    "    ```\n",
    "    \"1 x 1 = 1,\n",
    "    \"1 x 2 = 2,\n",
    "    \"1 x 3 = 3,\n",
    "    \"1 x 4 = 4,\n",
    "    \"1 x 5 = 5,\n",
    "    ```"
   ]
  },
  {
   "cell_type": "code",
   "execution_count": null,
   "metadata": {},
   "outputs": [
    {
     "ename": "",
     "evalue": "",
     "output_type": "error",
     "traceback": [
      "\u001b[1;31mFailed to start the Kernel. \n",
      "\u001b[1;31mUnable to start Kernel 'Python 3.12.-1' due to a timeout waiting for the ports to get used. \n",
      "\u001b[1;31mView Jupyter <a href='command:jupyter.viewOutput'>log</a> for further details."
     ]
    }
   ],
   "source": [
    "numero = int(input(\"Ingrese un numero del 1 al 10: \"))\n",
    "for n in range(10):\n",
    "    print(numero ,\"X\", n+1 ,\"=\", numero * (n+1))"
   ]
  },
  {
   "cell_type": "markdown",
   "metadata": {},
   "source": [
    "2. En un partido de fútbol, se ofrece un descuento a los aficionados que depende del estrato y la edad.  Si el estrato es 1 y su edad es menor a 18 el descuento será del 20% sobre el valor de la boleta.   Si el estrato es 1 y el alumno tiene 18 o mas años, el descuento será del 15%.  Si  el estrato es 2 y la edad es menor a 18 años, el descuento será del 10% y si el estrato es 2 y la edad es 18 años o más, el descuento será del 5%.  Determinar el total del dinero recaudado y descontado por las últimas N personas que ingresan al partido."
   ]
  },
  {
   "cell_type": "code",
   "execution_count": null,
   "metadata": {},
   "outputs": [],
   "source": [
    "def calcular_descuento(estrato, edad, valor_boleta):\n",
    "  if estrato == 1:\n",
    "    if edad < 18:\n",
    "      return valor_boleta * 0.20\n",
    "    else:\n",
    "      return valor_boleta * 0.15\n",
    "  elif estrato == 2:\n",
    "    if edad < 18:\n",
    "      return valor_boleta * 0.10\n",
    "    else:\n",
    "      return valor_boleta * 0.05\n",
    "  else:\n",
    "    return 0 \n",
    "\n",
    "def procesar_boletos(n):\n",
    "  recaudacion_total = 0\n",
    "  descuento_total = 0\n",
    "\n",
    "  for _ in range(n):\n",
    "    estrato = int(input(\"Ingrese el estrato de la persona (1 o 2): \"))\n",
    "    edad = int(input(\"Ingrese la edad de la ersona: \"))\n",
    "    valor_boleta = float(input(\"Ingrese cuanto vale la boleta: \"))\n",
    "\n",
    "    descuento = calcular_descuento(estrato, edad, valor_boleta)\n",
    "    valor_pagado = valor_boleta - descuento\n",
    "\n",
    "    recaudacion_total += valor_pagado\n",
    "    descuento_total += descuento\n",
    "\n",
    "  return recaudacion_total, descuento_total\n",
    "\n",
    "n_personas = int(input(\"Ingrese la cantidad de personas: \"))\n",
    "recaudacion, descuento = procesar_boletos(n_personas)\n",
    "\n",
    "print(f\"\\nRecaudación total: {recaudacion}\")\n",
    "print(f\"Descuento total: {descuento}\")"
   ]
  },
  {
   "cell_type": "markdown",
   "metadata": {},
   "source": [
    "3.  Leer un password de ingreso a un programa y mostrar el mensaje de bienvenida si es correcto. Mientras no lo sea, debe mostrar el mensaje de Password incorrecto. El programa debe terminar automáticamente al quinto intento fallido."
   ]
  },
  {
   "cell_type": "code",
   "execution_count": null,
   "metadata": {},
   "outputs": [],
   "source": [
    "password_correcto = \"Jose\" \n",
    "intentos_restantes = 5\n",
    "\n",
    "while intentos_restantes > 0:\n",
    "    password_ingresado = input(\"Ingrese la contraseña: \")\n",
    "    if password_ingresado == password_correcto:\n",
    "        print(\"¡Buenas tardes, Buenas noches, Buenos días!\")\n",
    "        break  \n",
    "    else:\n",
    "        intentos_restantes -= 1\n",
    "        print(f\"Contraseña incorrecta. Le quedan {intentos_restantes} intentos.\")\n",
    "        if intentos_restantes == 0:\n",
    "            print(\"No viste la contraseña de arriba?\")"
   ]
  }
 ],
 "metadata": {
  "kernelspec": {
   "display_name": "Python 3",
   "language": "python",
   "name": "python3"
  },
  "language_info": {
   "name": "python",
   "version": "3.12.-1"
  }
 },
 "nbformat": 4,
 "nbformat_minor": 2
}
