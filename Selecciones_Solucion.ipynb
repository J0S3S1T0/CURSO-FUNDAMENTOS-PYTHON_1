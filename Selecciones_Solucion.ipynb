{
 "cells": [
  {
   "cell_type": "markdown",
   "metadata": {},
   "source": [
    "## Copilacion"
   ]
  },
  {
   "cell_type": "markdown",
   "metadata": {},
   "source": [
    "1. Pregunte al usuario cuántos elementos desea ingresar en una lista, luego solicite cada uno de ellos y presente el contenido de la lista y su contenido invertido"
   ]
  },
  {
   "cell_type": "code",
   "execution_count": null,
   "metadata": {},
   "outputs": [],
   "source": [
    "n = int(input(\"Ingrese la cantidad de elementos para la lista: \"))\n",
    "lista = []\n",
    "for i in range(n):\n",
    "  elemento = input(f\"Ingrese el elemento {i+1}: \")\n",
    "  lista.append(elemento)\n",
    "\n",
    "print(\"Lista original:\", lista)\n",
    "print(\"Lista invertida:\", lista[::-1])"
   ]
  },
  {
   "cell_type": "markdown",
   "metadata": {},
   "source": [
    "2. Crear una lista de números y solicitar un número. Borrar de la lista ese número en todas las posiciones donde se encuentre. Presentar la lista final"
   ]
  },
  {
   "cell_type": "markdown",
   "metadata": {},
   "source": [
    "def eliminar_numero_de_lista(lista, numero_a_eliminar):\n",
    "\n",
    "  nueva_lista = [numero for numero in lista if numero != numero_a_eliminar]\n",
    "  return nueva_lista\n",
    "\n",
    "numeros = [1, 2, 3, 4, 2, 5, 2, 6,5,3,1,2]\n",
    "numero_a_eliminar = int(input(\"Ingrese el número a eliminar: \"))\n",
    "\n",
    "\n",
    "numeros = eliminar_numero_de_lista(numeros, numero_a_eliminar)\n",
    "print(\"Lista final:\", numeros)"
   ]
  },
  {
   "cell_type": "markdown",
   "metadata": {},
   "source": [
    "3. Solicite al usuario dos(2) frases y devuelva una lista con todas las letras que se repiten en la misma posición de ambas listas\n",
    "ejemplo: frase1: \"holasena\" frase2: \"todogana\" salida: [\"o\",\"n\", \"a\"]"
   ]
  },
  {
   "cell_type": "code",
   "execution_count": null,
   "metadata": {},
   "outputs": [],
   "source": [
    "def letras_repetidas(frase1, frase2):\n",
    "\n",
    "  letras_iguales = []\n",
    "  min_longitud = min(len(frase1), len(frase2))\n",
    "  for i in range(min_longitud):\n",
    "    if frase1[i] == frase2[i]:\n",
    "      letras_iguales.append(frase1[i])\n",
    "  return letras_iguales\n",
    "\n",
    "frase1 = input(\"Ingrese la primera frase: \")\n",
    "frase2 = input(\"Ingrese la segunda frase: \")\n",
    "\n",
    "resultado = letras_repetidas(frase1, frase2)\n",
    "print(f\"Letras repetidas en la misma posición: {resultado}\")"
   ]
  }
 ],
 "metadata": {
  "language_info": {
   "name": "python"
  }
 },
 "nbformat": 4,
 "nbformat_minor": 2
}
